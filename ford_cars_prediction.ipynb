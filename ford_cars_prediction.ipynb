{
 "cells": [
  {
   "cell_type": "code",
   "execution_count": null,
   "metadata": {},
   "outputs": [],
   "source": [
    "# Importing required libraries: \n",
    "\n",
    "import matplotlib.pyplot as plt\n",
    "import numpy as np\n",
    "import pandas as pd\n",
    "import statsmodels.api as sm \n",
    "\n",
    "n = 17966 # no of rows\n",
    "\n",
    "# Creating dataframe:\n",
    "\n",
    "df = pd.read_csv('https://raw.githubusercontent.com/Pyother/Business_Analysys/main/ford.csv')"
   ]
  },
  {
   "cell_type": "code",
   "execution_count": null,
   "metadata": {},
   "outputs": [],
   "source": [
    "# Displaying uploaded dataframe:\n",
    "\n",
    "df"
   ]
  },
  {
   "cell_type": "code",
   "execution_count": null,
   "metadata": {},
   "outputs": [],
   "source": [
    "# Uploading label columns: \n",
    "\n",
    "model = df.loc[:,\"model\"]\n",
    "year = df.loc[:,\"year\"]\n",
    "price = df.loc[:,\"price\"]\n",
    "transmission = df.loc[:,\"transmission\"]\n",
    "mileage = df.loc[:,\"mileage\"]\n",
    "fuelType = df.loc[:,\"fuelType\"]\n",
    "tax = df.loc[:,\"tax\"]\n",
    "mpg = df.loc[:,\"mpg\"]\n",
    "engineSize = df.loc[:,\"engineSize\"]"
   ]
  },
  {
   "cell_type": "code",
   "execution_count": null,
   "metadata": {},
   "outputs": [],
   "source": [
    "# Checking dependencies between variables:\n",
    "\n",
    "# Correlation between price and model:\n",
    "# pearsons_coefficient = np.corrcoef(price,model)\n",
    "# print(\"the pearson's coefficient of the price and model inputs are: \\n\" ,pearsons_coefficient)\n",
    "\n",
    "# Correlation between price and year:\n",
    "pearsons_coefficient = df[[\"price\", \"year\"]].corr()\n",
    "print(\"The pearson's coefficient of the price and year inputs are: \\n\" ,pearsons_coefficient)\n",
    "print()\n",
    "\n",
    "# Correlation between price and transmission:\n",
    "# pearsons_coefficient = np.corrcoef(price,transmission)\n",
    "# print(\"the pearson's coefficient of the price and transmission inputs are: \\n\" ,pearsons_coefficient)\n",
    "\n",
    "# Correlation between price and mileage:\n",
    "pearsons_coefficient = df[[\"price\", \"mileage\"]].corr()\n",
    "print(\"The pearson's coefficient of the price and mileage inputs are: \\n\" ,pearsons_coefficient)\n",
    "print()\n",
    "\n",
    "# Correlation between price and fuelType:\n",
    "# pearsons_coefficient = np.corrcoef(price,fuelType)\n",
    "# print(\"the pearson's coefficient of the price and fuelType inputs are: \\n\" ,pearsons_coefficient)\n",
    "\n",
    "# Correlation between price and tax:\n",
    "pearsons_coefficient = df[[\"price\", \"tax\"]].corr()\n",
    "print(\"The pearson's coefficient of the price and tax inputs are: \\n\" ,pearsons_coefficient)\n",
    "print()\n",
    "\n",
    "# Correlation between price and mpg:\n",
    "pearsons_coefficient = df[[\"price\", \"mpg\"]].corr()\n",
    "print(\"The pearson's coefficient of the price and mpg inputs are: \\n\" ,pearsons_coefficient)\n",
    "print()\n",
    "# Correlation between price and engineSize:\n",
    "# pearsons_coefficient = np.corrcoef(price,engineSize)\n",
    "pearsons_coefficient = df[[\"price\", \"engineSize\"]].corr()\n",
    "print(\"The pearson's coefficient of the price and engineSize inputs are: \\n\" ,pearsons_coefficient)\n",
    "print()\n"
   ]
  },
  {
   "cell_type": "code",
   "execution_count": null,
   "metadata": {},
   "outputs": [],
   "source": [
    "# Setting plot of price and mileage: \n",
    "\n",
    "plt.figure(figsize=(16,10))\n",
    "plt.scatter(price,mileage, s=5, c =\"orange\")\n",
    "#plt.plot(price,mileage,\"o\",c =\"orange\")\n"
   ]
  },
  {
   "cell_type": "code",
   "execution_count": null,
   "metadata": {},
   "outputs": [],
   "source": [
    "# Histogram showing the empirical distribution for the mileage:\n",
    "\n",
    "plt.figure(figsize=(16,10))\n",
    "plt.xlabel('Mileage', fontsize=12, color='#323232')\n",
    "plt.hist(x=mileage, bins=25, color='#0504aa', ec = 'red', alpha=0.7, rwidth=2)\n",
    "plt.title(\"Histogram showing the empirical distribution for the mileage\")\n",
    "plt.grid(axis='y', alpha=0.75)"
   ]
  },
  {
   "cell_type": "code",
   "execution_count": null,
   "metadata": {},
   "outputs": [],
   "source": [
    "# Setting plot of price and year: \n",
    "\n",
    "plt.figure(figsize=(16,10))\n",
    "plt.scatter(price,year, s=5, c =\"purple\")\n",
    "#plt.plot(price,year,\"o\",c =\"purple\")\n"
   ]
  },
  {
   "cell_type": "code",
   "execution_count": null,
   "metadata": {},
   "outputs": [],
   "source": [
    "# Histogram showing the empirical distribution for the year of production:\n",
    "\n",
    "plt.figure(figsize=(16,10))\n",
    "plt.xlabel('Year of production', fontsize=12, color='#323232')\n",
    "plt.hist(x=year, bins=50, color='#0504aa', ec = 'red', alpha=0.7, rwidth=2)\n",
    "plt.title(\"Histogram showing the empirical distribution for the year of production\")\n",
    "plt.grid(axis='y', alpha=0.75)"
   ]
  },
  {
   "cell_type": "code",
   "execution_count": null,
   "metadata": {},
   "outputs": [],
   "source": [
    "# Setting plot of price and tax: \n",
    "\n",
    "plt.figure(figsize=(16,10))\n",
    "plt.scatter(price,tax, s=5, c =\"yellow\")\n",
    "#plt.plot(price,tax,\"o\",c =\"yellow\")\n"
   ]
  },
  {
   "cell_type": "code",
   "execution_count": null,
   "metadata": {},
   "outputs": [],
   "source": [
    "# Histogram showing the empirical distribution for the tax:\n",
    "\n",
    "plt.figure(figsize=(16,10))\n",
    "plt.xlabel('Tax', fontsize=12, color='#323232')\n",
    "plt.hist(x=tax, bins=20, color='#0504aa', ec = 'red', alpha=0.7, rwidth=2)\n",
    "plt.title(\"Histogram showing the empirical distribution for the tax\")\n",
    "plt.grid(axis='y', alpha=0.75)"
   ]
  },
  {
   "cell_type": "code",
   "execution_count": null,
   "metadata": {},
   "outputs": [],
   "source": [
    "# Setting plot of price and mpg: \n",
    "\n",
    "plt.figure(figsize=(16,10))\n",
    "plt.scatter(price,mpg, s=5, c =\"green\")\n",
    "#plt.plot(price,mpg,\"o\",c =\"green\")\n"
   ]
  },
  {
   "cell_type": "code",
   "execution_count": null,
   "metadata": {},
   "outputs": [],
   "source": [
    "# Histogram showing the empirical distribution for miles per galon:\n",
    "\n",
    "plt.figure(figsize=(16,10))\n",
    "plt.xlabel('Miles per galon', fontsize=12, color='#323232')\n",
    "plt.hist(x=mpg, bins=25, color='#0504aa', ec = 'red', alpha=0.7, rwidth=2)\n",
    "plt.title(\"Histogram showing the empirical distribution for miles per galon\")\n",
    "plt.grid(axis='y', alpha=0.75)"
   ]
  },
  {
   "cell_type": "code",
   "execution_count": null,
   "metadata": {},
   "outputs": [],
   "source": [
    "# Setting plot price nad engineSize: \n",
    "\n",
    "plt.figure(figsize=(16,10))\n",
    "plt.scatter(price,engineSize, s=5, c =\"blue\")\n",
    "#plt.plot(price,tax,\"o\",c =\"blue\")\n"
   ]
  },
  {
   "cell_type": "code",
   "execution_count": null,
   "metadata": {},
   "outputs": [],
   "source": [
    "# Histogram showing the empirical distribution for engine size:\n",
    "\n",
    "plt.figure(figsize=(16,10))\n",
    "_ = plt.xlabel('Year of production', fontsize=12, color='#323232')\n",
    "_ = plt.hist(x=engineSize, bins=10, color='#0504aa', ec = 'red', density=False, alpha=0.7, rwidth=2)\n",
    "plt.title(\"Histogram showing the empirical distribution for engine size\")\n",
    "plt.grid(axis='y', alpha=0.75)"
   ]
  },
  {
   "cell_type": "code",
   "execution_count": null,
   "metadata": {},
   "outputs": [],
   "source": [
    "# Descriptive statistics for years of production:\n",
    "\n",
    "import statistics\n",
    "\n",
    "print(\"The average value for the year of production: \", statistics.mean(year))\n",
    "print(\"Middle values for the year of production: \", statistics.median(year))\n",
    "print(\"Q1 quantile of the year of production: \", np.quantile(year, .25))\n",
    "print(\"Q2 quantile of the year of production: \", np.quantile(year, .50))\n",
    "print(\"Q3 quantile of the year of production: \", np.quantile(year, .75))\n",
    "print(\"100th quantile of the year of production: \", np.quantile(year, .1)) \n"
   ]
  },
  {
   "cell_type": "code",
   "execution_count": null,
   "metadata": {},
   "outputs": [],
   "source": [
    "# Descriptive statistics for years of production:\n",
    "\n",
    "import statistics\n",
    "\n",
    "print(\"The average value for the mileage: \", statistics.mean(mileage))\n",
    "print(\"Middle values for the mileage: \", statistics.median(mileage))\n",
    "print(\"Q1 quantile of the mileage: \", np.quantile(mileage, .25))\n",
    "print(\"Q2 quantile of the mileage: \", np.quantile(mileage, .50))\n",
    "print(\"Q3 quantile of the mileage: \", np.quantile(mileage, .75))\n",
    "print(\"100th quantile of the mileage: \", np.quantile(mileage, .1)) \n"
   ]
  },
  {
   "cell_type": "code",
   "execution_count": null,
   "metadata": {},
   "outputs": [],
   "source": [
    "# TESTasdf"
   ]
  },
  {
   "cell_type": "code",
   "execution_count": null,
   "metadata": {},
   "outputs": [],
   "source": [
    "# Descriptive statistics for years of price:\n",
    "\n",
    "import statistics\n",
    "from scipy.stats import t\n",
    "\n",
    "print(\"The average value for the price: \", statistics.mean(price))\n",
    "print(\"Middle values for the price: \", statistics.median(price))\n",
    "print(\"Q1 quantile of the price: \", np.quantile(price, .25))\n",
    "print(\"Q2 quantile of the price: \", np.quantile(price, .50))\n",
    "print(\"Q3 quantile of the price: \", np.quantile(price, .75))\n",
    "print(\"100th quantile of the price: \", np.quantile(price, .1))\n",
    "\n",
    "mean_price = statistics.mean(price)\n",
    "s_price = price.std()\n",
    "dof_price = len(price) - 1\n",
    "confidence = 0.95\n",
    "t_crit_price = np.abs(t.ppf((1 - confidence)/2, dof_price))\n",
    "\n",
    "lower, upper = (mean_price-s_price*t_crit_price/np.sqrt(len(price)), mean_price+s_price*t_crit_price/np.sqrt(len(price)))\n",
    "print(\"Confidence intervals: (\", lower, \"; \", upper, \")\")\n",
    "# https://towardsdatascience.com/how-to-calculate-confidence-intervals-in-python-a8625a48e62b\n"
   ]
  },
  {
   "cell_type": "code",
   "execution_count": null,
   "metadata": {},
   "outputs": [],
   "source": [
    "# In the 5th cell of Jupyter Notebook we get correlation coefficient, values positive and negative, all from range abs(0,3) to abs(0,6).\n",
    "# Which means that correlation exists and is relevant, correlation reaches levels of average or high correlation coefficient.\n",
    "\n",
    "# Model regresji liniowej prostej - metoda najmniejszych kwadratów\n",
    "import numpy as np\n",
    "import statsmodels.api as sm \n",
    "# import scipy\n",
    "# from sklearn.linear_model import LinearRegression\n",
    "# import statsmodels.api as sm\n",
    "# https://realpython.com/linear-regression-in-python/\n",
    "# https://ichi.pro/pl/prosta-i-wielokrotna-regresja-liniowa-w-pythonie-221174748506361\n",
    "# https://www.geeksforgeeks.org/linear-regression-python-implementation/\n",
    "def regression(price, year):\n",
    "    n = 17966 # no of rows\n",
    "    mean_price = statistics.mean(price)\n",
    "    mean_year = statistics.mean(year)\n",
    "    SS_xy = np.sum(price*year) - n*mean_price*mean_year\n",
    "    SS_xx = np.sum(year*year) - n*mean_year*mean_year\n",
    "    b_1 = SS_xy / SS_xx\n",
    "    b_0 = mean_price - b_1*mean_year\n",
    "    b = (b_0, b_1)\n",
    "    #print(\"Estimated coefficients:\\nb_0 = {}  \\\\ nb_1 = {}\".format(b[0], b[1]))\n",
    "    print(\"The equation of regression line is represented as: y = \", b_0, \" + x\", b_1)\n",
    "    # scatter(x, y)\n",
    "    plt.scatter(year, price, color = \"red\", marker = \".\", s = 5)\n",
    "    price_pred = b[0] + b[1]*year\n",
    "    plt.plot(year, price_pred, color = \"blue\")\n",
    "    #zmiana\n",
    "    plt.ylabel('price')\n",
    "    plt.xlabel('year')\n",
    "    #zmiana\n",
    "    plt.show()\n",
    "\n",
    "    # Fit the regression model\n",
    "    reg_model = sm.OLS(price, year).fit()\n",
    "    # Print the summary\n",
    "    print(reg_model.summary())\n",
    "    \"\"\"This difference is statistically significant, because the p-value, shown under the column labeled P>|t|, \n",
    "    is less than the significance value of 0.05. \n",
    "    This means that there is a strong evidence of a linear association between the variables 'Price' and 'Year'.\"\"\"\n",
    "regression(price, year)"
   ]
  },
  {
   "cell_type": "code",
   "execution_count": null,
   "metadata": {},
   "outputs": [],
   "source": [
    "regression(price, mileage)"
   ]
  },
  {
   "cell_type": "code",
   "execution_count": null,
   "metadata": {},
   "outputs": [],
   "source": [
    "regression(price, tax)"
   ]
  },
  {
   "cell_type": "code",
   "execution_count": null,
   "metadata": {},
   "outputs": [],
   "source": [
    "regression(price, mpg)"
   ]
  },
  {
   "cell_type": "code",
   "execution_count": null,
   "metadata": {},
   "outputs": [],
   "source": [
    "regression(price, engineSize)"
   ]
  }
 ],
 "metadata": {
  "interpreter": {
   "hash": "26de051ba29f2982a8de78e945f0abaf191376122a1563185a90213a26c5da77"
  },
  "kernelspec": {
   "display_name": "Python 3.10.3 64-bit",
   "language": "python",
   "name": "python3"
  },
  "language_info": {
   "codemirror_mode": {
    "name": "ipython",
    "version": 3
   },
   "file_extension": ".py",
   "mimetype": "text/x-python",
   "name": "python",
   "nbconvert_exporter": "python",
   "pygments_lexer": "ipython3",
   "version": "3.10.3"
  },
  "orig_nbformat": 4
 },
 "nbformat": 4,
 "nbformat_minor": 2
}
